{
 "cells": [
  {
   "cell_type": "code",
   "execution_count": 1,
   "metadata": {
    "slideshow": {
     "slide_type": "skip"
    }
   },
   "outputs": [],
   "source": [
    "# import packages\n",
    "import numpy as np\n",
    "import pandas as pd\n",
    "import matplotlib.pyplot as plt\n",
    "import seaborn as sns\n",
    "\n",
    "%matplotlib inline"
   ]
  },
  {
   "cell_type": "markdown",
   "metadata": {
    "slideshow": {
     "slide_type": "skip"
    }
   },
   "source": [
    "## Introduction"
   ]
  },
  {
   "cell_type": "markdown",
   "metadata": {
    "slideshow": {
     "slide_type": "slide"
    }
   },
   "source": [
    "**The flight dataset**\n",
    "\n",
    "**Flight delays are inevitable. The data provided by the United States department of transportation tell us that 80% of flights are ontime and 20% are delayed. However there is a 15 minutes rule for being ontime: In the U.S. ontime is counted as any departure/arrival up to 15 minutes of the scheduled time. I choose 3 years to compare general data like arrival delay, departure delay , airlines etc. One year in the 90ies and 2004 and 2008 to see if there where any changes in this 10 year period for this variables. To make a brief comparison between the reasons for the delays (airline, wheather, late incoming aircraft etc.) I just used 2004 and 2008 data as these variables were not recorded in 1998. I want to explore whether there were changes in delays between airlines, years, airports etc and reasons for delays. Furthermore I want to explore the impact of the 15 minutes rule on delay times and statistics for airports and airlines.**\n",
    "\n"
   ]
  },
  {
   "cell_type": "markdown",
   "metadata": {
    "slideshow": {
     "slide_type": "skip"
    }
   },
   "source": [
    "## Gather Data"
   ]
  },
  {
   "cell_type": "code",
   "execution_count": 2,
   "metadata": {
    "slideshow": {
     "slide_type": "skip"
    }
   },
   "outputs": [],
   "source": [
    "# create data frames from csv files\n",
    "df_2008 = pd.read_csv('2008.csv')"
   ]
  },
  {
   "cell_type": "code",
   "execution_count": 3,
   "metadata": {
    "slideshow": {
     "slide_type": "skip"
    }
   },
   "outputs": [],
   "source": [
    "# create data frames from csv files\n",
    "df_1998 = pd.read_csv('1998.csv')"
   ]
  },
  {
   "cell_type": "code",
   "execution_count": 4,
   "metadata": {
    "slideshow": {
     "slide_type": "skip"
    }
   },
   "outputs": [],
   "source": [
    "# create data frames from csv files\n",
    "df_2004 = pd.read_csv('2004.csv')"
   ]
  },
  {
   "cell_type": "code",
   "execution_count": 5,
   "metadata": {
    "slideshow": {
     "slide_type": "skip"
    }
   },
   "outputs": [],
   "source": [
    "# drop columns from single data frames\n",
    "df_1998.drop(['DepTime', 'ArrTime', 'ActualElapsedTime', 'CRSElapsedTime', 'CancellationCode' ], axis=1, inplace=True)"
   ]
  },
  {
   "cell_type": "code",
   "execution_count": 6,
   "metadata": {
    "slideshow": {
     "slide_type": "skip"
    }
   },
   "outputs": [],
   "source": [
    "# drop columns from single data frames\n",
    "df_2004.drop(['DepTime', 'ArrTime', 'ActualElapsedTime', 'CRSElapsedTime', 'CancellationCode' ], axis=1, inplace=True)"
   ]
  },
  {
   "cell_type": "code",
   "execution_count": 7,
   "metadata": {
    "slideshow": {
     "slide_type": "skip"
    }
   },
   "outputs": [],
   "source": [
    "# drop columns from single data frames\n",
    "df_2008.drop(['DepTime', 'ArrTime', 'ActualElapsedTime', 'CRSElapsedTime', 'CancellationCode' ], axis=1, inplace=True)"
   ]
  },
  {
   "cell_type": "code",
   "execution_count": 8,
   "metadata": {
    "slideshow": {
     "slide_type": "skip"
    }
   },
   "outputs": [],
   "source": [
    "# change dtype 2008 TaxiIn step 1\n",
    "df_2008.dropna(subset = ['TaxiIn'], inplace=True)"
   ]
  },
  {
   "cell_type": "code",
   "execution_count": 9,
   "metadata": {
    "slideshow": {
     "slide_type": "skip"
    }
   },
   "outputs": [],
   "source": [
    "# change dtype 2008 TaxiIn step 2\n",
    "df_2008['TaxiIn'] = df_2008['TaxiIn'].astype(int, inplace=True)"
   ]
  },
  {
   "cell_type": "code",
   "execution_count": 10,
   "metadata": {
    "slideshow": {
     "slide_type": "skip"
    }
   },
   "outputs": [],
   "source": [
    "# change dtype 2008 TaxiOut step1\n",
    "df_2008.dropna(subset = ['TaxiOut'], inplace=True)"
   ]
  },
  {
   "cell_type": "code",
   "execution_count": 11,
   "metadata": {
    "slideshow": {
     "slide_type": "skip"
    }
   },
   "outputs": [],
   "source": [
    "# change dtype 2008 TaxiOut step 2\n",
    "df_2008['TaxiOut'] = df_2008['TaxiOut'].astype(int, inplace=True)"
   ]
  },
  {
   "cell_type": "code",
   "execution_count": 12,
   "metadata": {
    "slideshow": {
     "slide_type": "skip"
    }
   },
   "outputs": [],
   "source": [
    "# cast values of 2004 delay columns to float\n",
    "df_2004[['CarrierDelay', 'WeatherDelay', 'NASDelay', 'SecurityDelay', 'LateAircraftDelay']] = df_2004[['CarrierDelay', 'WeatherDelay', 'NASDelay', 'SecurityDelay', 'LateAircraftDelay']].astype(float, inplace=True)"
   ]
  },
  {
   "cell_type": "code",
   "execution_count": 13,
   "metadata": {
    "slideshow": {
     "slide_type": "skip"
    }
   },
   "outputs": [],
   "source": [
    "# fillna delay columns with 0\n",
    "values = {'CarrierDelay': 0, 'WeatherDelay': 0, 'NASDelay' : 0, 'SecurityDelay' : 0, 'LateAircraftDelay' : 0}\n",
    "df_2008.fillna(value=values, inplace=True)"
   ]
  },
  {
   "cell_type": "code",
   "execution_count": 14,
   "metadata": {
    "slideshow": {
     "slide_type": "skip"
    }
   },
   "outputs": [],
   "source": [
    "# concat cleaned data frames\n",
    "df_cct = pd.concat([df_1998, df_2004, df_2008], ignore_index=True)"
   ]
  },
  {
   "cell_type": "code",
   "execution_count": 15,
   "metadata": {
    "slideshow": {
     "slide_type": "skip"
    }
   },
   "outputs": [],
   "source": [
    "# drop NaN values except for delay columns\n",
    "df_cct.dropna(subset = ['TailNum', 'AirTime', 'ArrDelay', 'DepDelay'], inplace=True)"
   ]
  },
  {
   "cell_type": "code",
   "execution_count": 16,
   "metadata": {
    "slideshow": {
     "slide_type": "skip"
    }
   },
   "outputs": [],
   "source": [
    "# delete not needed columns\n",
    "df_cct.drop(['AirTime', 'Cancelled', 'Diverted'], axis=1, inplace=True)"
   ]
  },
  {
   "cell_type": "code",
   "execution_count": 17,
   "metadata": {
    "slideshow": {
     "slide_type": "skip"
    }
   },
   "outputs": [],
   "source": [
    "# delete early arrivals > 45 minutes\n",
    "df_cct = df_cct.query('ArrDelay > -45')"
   ]
  },
  {
   "cell_type": "code",
   "execution_count": 18,
   "metadata": {
    "slideshow": {
     "slide_type": "skip"
    }
   },
   "outputs": [],
   "source": [
    "# create mask for filtering data points with early and ontime arrival and departure delay of > 120 minutes\n",
    "mask = (df_cct['ArrDelay']<=0) & (df_cct['DepDelay']>120)"
   ]
  },
  {
   "cell_type": "code",
   "execution_count": 19,
   "metadata": {
    "slideshow": {
     "slide_type": "skip"
    }
   },
   "outputs": [],
   "source": [
    "# delete filtered datapoints with inversion of mask\n",
    "df_cct = df_cct[~mask]"
   ]
  },
  {
   "cell_type": "code",
   "execution_count": 20,
   "metadata": {
    "slideshow": {
     "slide_type": "skip"
    }
   },
   "outputs": [],
   "source": [
    "# create a function for cubic root transformation and reversal\n",
    "def cbrt_trans(x, inverse=False):\n",
    "    if not inverse:\n",
    "        return np.cbrt(x)\n",
    "    else:\n",
    "        return x**3\n"
   ]
  },
  {
   "cell_type": "code",
   "execution_count": 21,
   "metadata": {
    "slideshow": {
     "slide_type": "skip"
    }
   },
   "outputs": [],
   "source": [
    "# delete early departures of more than 10 minutes\n",
    "df_cct = df_cct.query('DepDelay >= -10')"
   ]
  },
  {
   "cell_type": "code",
   "execution_count": 22,
   "metadata": {
    "slideshow": {
     "slide_type": "skip"
    }
   },
   "outputs": [],
   "source": [
    "# get the origin airports with the 20 highest flight frequencies\n",
    "high_frequency_origin = df_cct['Origin'].value_counts()[:20]"
   ]
  },
  {
   "cell_type": "code",
   "execution_count": 23,
   "metadata": {
    "slideshow": {
     "slide_type": "skip"
    }
   },
   "outputs": [],
   "source": [
    "# get a list of the airport names\n",
    "high_frequency_list = high_frequency_origin.index.tolist()"
   ]
  },
  {
   "cell_type": "code",
   "execution_count": 24,
   "metadata": {
    "slideshow": {
     "slide_type": "skip"
    }
   },
   "outputs": [],
   "source": [
    "# create data frame with only 20 airports with highest flight frequencies\n",
    "df_hf_origin = df_cct[df_cct['Origin'].isin(high_frequency_list)]"
   ]
  },
  {
   "cell_type": "code",
   "execution_count": 25,
   "metadata": {
    "slideshow": {
     "slide_type": "skip"
    }
   },
   "outputs": [],
   "source": [
    "# get the destination airports with the 20 highest flight frequencies\n",
    "high_frequency_dest = df_cct['Dest'].value_counts()[:20]"
   ]
  },
  {
   "cell_type": "code",
   "execution_count": 26,
   "metadata": {
    "slideshow": {
     "slide_type": "skip"
    }
   },
   "outputs": [],
   "source": [
    "# get a list of the airport names\n",
    "high_frequency_list_dest = high_frequency_dest.index.tolist()"
   ]
  },
  {
   "cell_type": "code",
   "execution_count": 27,
   "metadata": {
    "slideshow": {
     "slide_type": "skip"
    }
   },
   "outputs": [],
   "source": [
    "# create data frame with only 20 airports with highest flight frequencies\n",
    "df_hf_dest = df_cct[df_cct['Dest'].isin(high_frequency_list_dest)]"
   ]
  },
  {
   "cell_type": "code",
   "execution_count": 28,
   "metadata": {
    "slideshow": {
     "slide_type": "skip"
    }
   },
   "outputs": [],
   "source": [
    "# create data set without 1998 data as there were no records taken\n",
    "df_cct_0408 = df_cct.query('Year > 1998')"
   ]
  },
  {
   "cell_type": "code",
   "execution_count": 29,
   "metadata": {
    "slideshow": {
     "slide_type": "skip"
    }
   },
   "outputs": [],
   "source": [
    "# create data set with nonnull values only\n",
    "df_cct_0408_pos = df_cct_0408.query('CarrierDelay > 0')"
   ]
  },
  {
   "cell_type": "code",
   "execution_count": 30,
   "metadata": {
    "slideshow": {
     "slide_type": "skip"
    }
   },
   "outputs": [],
   "source": [
    "# create data set with nonnull values only\n",
    "df_cct_0408_posw = df_cct_0408.query('WeatherDelay > 0')"
   ]
  },
  {
   "cell_type": "code",
   "execution_count": 31,
   "metadata": {
    "slideshow": {
     "slide_type": "skip"
    }
   },
   "outputs": [],
   "source": [
    "# create data set with nonnull values only\n",
    "df_cct_0408_posn = df_cct_0408.query('NASDelay > 0')"
   ]
  },
  {
   "cell_type": "code",
   "execution_count": 32,
   "metadata": {
    "slideshow": {
     "slide_type": "skip"
    }
   },
   "outputs": [],
   "source": [
    "# create data set with nonnull values only\n",
    "df_cct_0408_poss = df_cct_0408.query('SecurityDelay > 0')"
   ]
  },
  {
   "cell_type": "code",
   "execution_count": 33,
   "metadata": {
    "slideshow": {
     "slide_type": "skip"
    }
   },
   "outputs": [],
   "source": [
    "# create data set with nonnull values only\n",
    "df_cct_0408_posa = df_cct_0408.query('LateAircraftDelay > 0')"
   ]
  },
  {
   "cell_type": "code",
   "execution_count": 34,
   "metadata": {
    "slideshow": {
     "slide_type": "skip"
    }
   },
   "outputs": [],
   "source": [
    "# create dataset with nonnull values only\n",
    "df_cct_arr_pos = df_cct.query('ArrDelay > 0')"
   ]
  },
  {
   "cell_type": "code",
   "execution_count": 35,
   "metadata": {
    "slideshow": {
     "slide_type": "skip"
    }
   },
   "outputs": [],
   "source": [
    "df_cct_10 = df_cct.sample(frac=0.1)"
   ]
  },
  {
   "cell_type": "code",
   "execution_count": 36,
   "metadata": {
    "slideshow": {
     "slide_type": "skip"
    }
   },
   "outputs": [],
   "source": [
    "# create data frame with real arrival delay data\n",
    "df_cct_posAD = df_cct.query('ArrDelay > 0')"
   ]
  },
  {
   "cell_type": "code",
   "execution_count": 37,
   "metadata": {
    "slideshow": {
     "slide_type": "skip"
    }
   },
   "outputs": [],
   "source": [
    "# create data frame with real departure delay data\n",
    "df_cct_posDD = df_cct.query('DepDelay > 0')"
   ]
  },
  {
   "cell_type": "code",
   "execution_count": 38,
   "metadata": {
    "slideshow": {
     "slide_type": "skip"
    }
   },
   "outputs": [],
   "source": [
    "# create data frame with high arrival delay data\n",
    "df_cct_highAD = df_cct.query('ArrDelay > 45')"
   ]
  },
  {
   "cell_type": "code",
   "execution_count": 39,
   "metadata": {
    "slideshow": {
     "slide_type": "skip"
    }
   },
   "outputs": [],
   "source": [
    "# create data frame with high departure delay data\n",
    "df_cct_highDD = df_cct.query('DepDelay > 45')"
   ]
  },
  {
   "cell_type": "code",
   "execution_count": 40,
   "metadata": {
    "slideshow": {
     "slide_type": "skip"
    }
   },
   "outputs": [],
   "source": [
    "# cast values of DayOfWeek to string\n",
    "df_cct['DayOfWeek'] = df_cct['DayOfWeek'].apply(str)"
   ]
  },
  {
   "cell_type": "code",
   "execution_count": 41,
   "metadata": {
    "slideshow": {
     "slide_type": "skip"
    }
   },
   "outputs": [],
   "source": [
    "# name the weekdays for plotting\n",
    "df_cct['Weekday'] = ['Monday' if '1' in text\n",
    "                     else 'Tuesday' if '2' in text\n",
    "                     else 'Wednesday' if '3' in text\n",
    "                     else 'Thursday' if '4' in text\n",
    "                     else 'Friday' if '5' in text\n",
    "                    else 'Saturday' if '6' in text\n",
    "                    else 'Sunday' for text in df_cct['DayOfWeek']]"
   ]
  },
  {
   "cell_type": "code",
   "execution_count": 42,
   "metadata": {
    "slideshow": {
     "slide_type": "skip"
    }
   },
   "outputs": [
    {
     "data": {
      "text/plain": [
       "array(['WN', 'HP', 'CO', 'US', 'DL', 'UA', 'AA', 'NW', 'AS', 'TW', 'OH',\n",
       "       'OO', 'XE', 'TZ', 'EV', 'FL', 'HA', 'MQ', 'B6', 'DH', 'YV', 'F9',\n",
       "       '9E', 'AQ'], dtype=object)"
      ]
     },
     "execution_count": 42,
     "metadata": {},
     "output_type": "execute_result"
    }
   ],
   "source": [
    "# get airline abbreviations\n",
    "df_cct['UniqueCarrier'].unique()"
   ]
  },
  {
   "cell_type": "code",
   "execution_count": 43,
   "metadata": {
    "slideshow": {
     "slide_type": "skip"
    }
   },
   "outputs": [],
   "source": [
    "# convert Weekday and unique carrier into ordered categorical types\n",
    "ordinal_var_dict = {'Weekday': ['Monday','Tuesday','Wednesday','Thursday','Friday', 'Saturday','Sunday'],\n",
    "                    'UniqueCarrier': ['WN', 'HP', 'CO', 'US', 'DL', 'UA', 'AA', 'NW', 'AS', 'TW', 'OH', 'OO', 'XE', 'TZ', 'EV', 'FL', 'HA', 'MQ', 'B6', 'DH', 'YV', 'F9', '9E', 'AQ']}\n",
    "\n",
    "for var in ordinal_var_dict:\n",
    "    pd_ver = pd.__version__.split(\".\")\n",
    "    if (int(pd_ver[0]) > 0) or (int(pd_ver[1]) >= 21): # v0.21 or later\n",
    "        ordered_var = pd.api.types.CategoricalDtype(ordered = True,\n",
    "                                                    categories = ordinal_var_dict[var])\n",
    "        df_cct[var] = df_cct[var].astype(ordered_var)\n",
    "    else: # pre-v0.21\n",
    "        df_cct[var] = df_cct[var].astype('category', ordered = True,\n",
    "                                             categories = ordinal_var_dict[var])"
   ]
  },
  {
   "cell_type": "code",
   "execution_count": 44,
   "metadata": {
    "slideshow": {
     "slide_type": "skip"
    }
   },
   "outputs": [],
   "source": [
    "# create data frame with real arrival delay data\n",
    "df_cct_posAD = df_cct.query('ArrDelay > 0')"
   ]
  },
  {
   "cell_type": "code",
   "execution_count": 45,
   "metadata": {
    "slideshow": {
     "slide_type": "skip"
    }
   },
   "outputs": [],
   "source": [
    "# create data frame with real arrival delay data\n",
    "df_cct_posDD = df_cct.query('DepDelay > 0')"
   ]
  },
  {
   "cell_type": "code",
   "execution_count": 46,
   "metadata": {
    "slideshow": {
     "slide_type": "skip"
    }
   },
   "outputs": [],
   "source": [
    "# see which airports have the highest and lowest departure delays\n",
    "df_grouped_origin_del = df_cct.groupby('Origin')['DepDelay'].mean()"
   ]
  },
  {
   "cell_type": "code",
   "execution_count": 47,
   "metadata": {
    "slideshow": {
     "slide_type": "skip"
    }
   },
   "outputs": [],
   "source": [
    "# flight frequency of the airports\n",
    "df_grouped_origin_count = df_cct.groupby('Origin')['DepDelay'].count()"
   ]
  },
  {
   "cell_type": "code",
   "execution_count": 48,
   "metadata": {
    "slideshow": {
     "slide_type": "skip"
    }
   },
   "outputs": [],
   "source": [
    "# create data frame to join second variable\n",
    "df = pd.DataFrame(df_grouped_origin_del)"
   ]
  },
  {
   "cell_type": "code",
   "execution_count": 49,
   "metadata": {
    "slideshow": {
     "slide_type": "skip"
    }
   },
   "outputs": [],
   "source": [
    "# join data\n",
    "df_group_master = df.join(df_grouped_origin_count, lsuffix='_', rsuffix='_NoOfFlights')"
   ]
  },
  {
   "cell_type": "code",
   "execution_count": 50,
   "metadata": {
    "slideshow": {
     "slide_type": "skip"
    }
   },
   "outputs": [],
   "source": [
    "# sort  values for departure delay in descending order\n",
    "df_group_master.sort_values(by=['DepDelay_'], ascending=False, inplace=True)"
   ]
  },
  {
   "cell_type": "code",
   "execution_count": 51,
   "metadata": {
    "slideshow": {
     "slide_type": "skip"
    }
   },
   "outputs": [],
   "source": [
    "# see which airports have the highest and lowest arrival delays\n",
    "df_grouped_dest_del = df_cct.groupby('Dest')['ArrDelay'].mean()"
   ]
  },
  {
   "cell_type": "code",
   "execution_count": 52,
   "metadata": {
    "slideshow": {
     "slide_type": "skip"
    }
   },
   "outputs": [],
   "source": [
    "# flight frequency of the dest airports\n",
    "df_grouped_dest_count = df_cct.groupby('Dest')['ArrDelay'].count()"
   ]
  },
  {
   "cell_type": "code",
   "execution_count": 53,
   "metadata": {
    "slideshow": {
     "slide_type": "skip"
    }
   },
   "outputs": [],
   "source": [
    "# create data frame to join second variable\n",
    "df_1 = pd.DataFrame(df_grouped_dest_del)"
   ]
  },
  {
   "cell_type": "code",
   "execution_count": 54,
   "metadata": {
    "slideshow": {
     "slide_type": "skip"
    }
   },
   "outputs": [],
   "source": [
    "# join data\n",
    "df_group_master1 = df_1.join(df_grouped_dest_count, lsuffix='_', rsuffix='_NoOfFlights')"
   ]
  },
  {
   "cell_type": "code",
   "execution_count": 55,
   "metadata": {
    "slideshow": {
     "slide_type": "skip"
    }
   },
   "outputs": [],
   "source": [
    "# sort  values for departure delay in descending order\n",
    "df_group_master1.sort_values(by=['ArrDelay_'], ascending=False, inplace=True)"
   ]
  },
  {
   "cell_type": "code",
   "execution_count": 56,
   "metadata": {
    "slideshow": {
     "slide_type": "skip"
    }
   },
   "outputs": [],
   "source": [
    "# create bin edges and bin names\n",
    "bin_edges = [8, 323, 571, 954, 4963]\n",
    "bin_names = ['shortest_range', 'short_range', 'mid_range', 'long_range']"
   ]
  },
  {
   "cell_type": "code",
   "execution_count": 57,
   "metadata": {
    "slideshow": {
     "slide_type": "skip"
    }
   },
   "outputs": [],
   "source": [
    "# create data for the range variable\n",
    "df_cct['Range'] = pd.cut(df_cct['Distance'], bin_edges, labels=bin_names)"
   ]
  },
  {
   "cell_type": "code",
   "execution_count": 58,
   "metadata": {
    "slideshow": {
     "slide_type": "skip"
    }
   },
   "outputs": [],
   "source": [
    "# create real (= positive)  arrival delay data\n",
    "df_cct_posAD = df_cct.query('ArrDelay > 0')"
   ]
  },
  {
   "cell_type": "code",
   "execution_count": 59,
   "metadata": {
    "slideshow": {
     "slide_type": "skip"
    }
   },
   "outputs": [],
   "source": [
    "# create real (= positive) departure delay data\n",
    "df_cct_posDD = df_cct.query('DepDelay > 0')"
   ]
  },
  {
   "cell_type": "code",
   "execution_count": 60,
   "metadata": {
    "slideshow": {
     "slide_type": "skip"
    }
   },
   "outputs": [],
   "source": [
    "# create an indicator column for  arrival delays\n",
    "df_cct['Delayed'] = df_cct['ArrDelay'].apply(lambda x: x>0)"
   ]
  },
  {
   "cell_type": "code",
   "execution_count": 61,
   "metadata": {
    "slideshow": {
     "slide_type": "skip"
    }
   },
   "outputs": [],
   "source": [
    "# create dataframe with True and False columns\n",
    "df_prop = df_cct.groupby(['UniqueCarrier', 'Delayed']).size().unstack()"
   ]
  },
  {
   "cell_type": "code",
   "execution_count": 62,
   "metadata": {
    "slideshow": {
     "slide_type": "skip"
    }
   },
   "outputs": [],
   "source": [
    "# create Unique carrier column\n",
    "df_prop.reset_index(inplace=True)"
   ]
  },
  {
   "cell_type": "code",
   "execution_count": 63,
   "metadata": {
    "slideshow": {
     "slide_type": "skip"
    }
   },
   "outputs": [],
   "source": [
    "# create total number of flights column\n",
    "df_prop['AllFlights'] = df_prop[False] + df_prop[True]"
   ]
  },
  {
   "cell_type": "code",
   "execution_count": 64,
   "metadata": {
    "slideshow": {
     "slide_type": "skip"
    }
   },
   "outputs": [],
   "source": [
    "# create a column with percentage delay data\n",
    "df_prop['PercDelay'] = (df_prop[True]/df_prop['AllFlights'])*100"
   ]
  },
  {
   "cell_type": "code",
   "execution_count": 65,
   "metadata": {
    "slideshow": {
     "slide_type": "skip"
    }
   },
   "outputs": [
    {
     "data": {
      "text/html": [
       "<div>\n",
       "<style scoped>\n",
       "    .dataframe tbody tr th:only-of-type {\n",
       "        vertical-align: middle;\n",
       "    }\n",
       "\n",
       "    .dataframe tbody tr th {\n",
       "        vertical-align: top;\n",
       "    }\n",
       "\n",
       "    .dataframe thead th {\n",
       "        text-align: right;\n",
       "    }\n",
       "</style>\n",
       "<table border=\"1\" class=\"dataframe\">\n",
       "  <thead>\n",
       "    <tr style=\"text-align: right;\">\n",
       "      <th>Delayed</th>\n",
       "      <th>UniqueCarrier</th>\n",
       "      <th>False</th>\n",
       "      <th>True</th>\n",
       "      <th>AllFlights</th>\n",
       "      <th>PercDelay</th>\n",
       "    </tr>\n",
       "  </thead>\n",
       "  <tbody>\n",
       "    <tr>\n",
       "      <th>1</th>\n",
       "      <td>HP</td>\n",
       "      <td>165746</td>\n",
       "      <td>223678</td>\n",
       "      <td>389424</td>\n",
       "      <td>57.438165</td>\n",
       "    </tr>\n",
       "    <tr>\n",
       "      <th>8</th>\n",
       "      <td>AS</td>\n",
       "      <td>210214</td>\n",
       "      <td>228880</td>\n",
       "      <td>439094</td>\n",
       "      <td>52.125513</td>\n",
       "    </tr>\n",
       "    <tr>\n",
       "      <th>21</th>\n",
       "      <td>F9</td>\n",
       "      <td>47523</td>\n",
       "      <td>46690</td>\n",
       "      <td>94213</td>\n",
       "      <td>49.557917</td>\n",
       "    </tr>\n",
       "    <tr>\n",
       "      <th>4</th>\n",
       "      <td>DL</td>\n",
       "      <td>1015191</td>\n",
       "      <td>981469</td>\n",
       "      <td>1996660</td>\n",
       "      <td>49.155540</td>\n",
       "    </tr>\n",
       "    <tr>\n",
       "      <th>20</th>\n",
       "      <td>YV</td>\n",
       "      <td>123128</td>\n",
       "      <td>109903</td>\n",
       "      <td>233031</td>\n",
       "      <td>47.162395</td>\n",
       "    </tr>\n",
       "    <tr>\n",
       "      <th>5</th>\n",
       "      <td>UA</td>\n",
       "      <td>897306</td>\n",
       "      <td>799137</td>\n",
       "      <td>1696443</td>\n",
       "      <td>47.106623</td>\n",
       "    </tr>\n",
       "    <tr>\n",
       "      <th>2</th>\n",
       "      <td>CO</td>\n",
       "      <td>515502</td>\n",
       "      <td>457832</td>\n",
       "      <td>973334</td>\n",
       "      <td>47.037502</td>\n",
       "    </tr>\n",
       "    <tr>\n",
       "      <th>7</th>\n",
       "      <td>NW</td>\n",
       "      <td>693469</td>\n",
       "      <td>607305</td>\n",
       "      <td>1300774</td>\n",
       "      <td>46.687972</td>\n",
       "    </tr>\n",
       "    <tr>\n",
       "      <th>12</th>\n",
       "      <td>XE</td>\n",
       "      <td>383298</td>\n",
       "      <td>326514</td>\n",
       "      <td>709812</td>\n",
       "      <td>46.000068</td>\n",
       "    </tr>\n",
       "    <tr>\n",
       "      <th>9</th>\n",
       "      <td>TW</td>\n",
       "      <td>145187</td>\n",
       "      <td>121155</td>\n",
       "      <td>266342</td>\n",
       "      <td>45.488507</td>\n",
       "    </tr>\n",
       "    <tr>\n",
       "      <th>17</th>\n",
       "      <td>MQ</td>\n",
       "      <td>497134</td>\n",
       "      <td>414834</td>\n",
       "      <td>911968</td>\n",
       "      <td>45.487780</td>\n",
       "    </tr>\n",
       "    <tr>\n",
       "      <th>6</th>\n",
       "      <td>AA</td>\n",
       "      <td>1042566</td>\n",
       "      <td>849251</td>\n",
       "      <td>1891817</td>\n",
       "      <td>44.890758</td>\n",
       "    </tr>\n",
       "    <tr>\n",
       "      <th>15</th>\n",
       "      <td>FL</td>\n",
       "      <td>230057</td>\n",
       "      <td>183844</td>\n",
       "      <td>413901</td>\n",
       "      <td>44.417385</td>\n",
       "    </tr>\n",
       "    <tr>\n",
       "      <th>10</th>\n",
       "      <td>OH</td>\n",
       "      <td>304158</td>\n",
       "      <td>239465</td>\n",
       "      <td>543623</td>\n",
       "      <td>44.049829</td>\n",
       "    </tr>\n",
       "    <tr>\n",
       "      <th>14</th>\n",
       "      <td>EV</td>\n",
       "      <td>303751</td>\n",
       "      <td>233708</td>\n",
       "      <td>537459</td>\n",
       "      <td>43.483875</td>\n",
       "    </tr>\n",
       "    <tr>\n",
       "      <th>18</th>\n",
       "      <td>B6</td>\n",
       "      <td>157553</td>\n",
       "      <td>117519</td>\n",
       "      <td>275072</td>\n",
       "      <td>42.722996</td>\n",
       "    </tr>\n",
       "    <tr>\n",
       "      <th>0</th>\n",
       "      <td>WN</td>\n",
       "      <td>1710177</td>\n",
       "      <td>1258654</td>\n",
       "      <td>2968831</td>\n",
       "      <td>42.395610</td>\n",
       "    </tr>\n",
       "    <tr>\n",
       "      <th>3</th>\n",
       "      <td>US</td>\n",
       "      <td>879851</td>\n",
       "      <td>639598</td>\n",
       "      <td>1519449</td>\n",
       "      <td>42.094075</td>\n",
       "    </tr>\n",
       "    <tr>\n",
       "      <th>13</th>\n",
       "      <td>TZ</td>\n",
       "      <td>42814</td>\n",
       "      <td>30635</td>\n",
       "      <td>73449</td>\n",
       "      <td>41.709213</td>\n",
       "    </tr>\n",
       "    <tr>\n",
       "      <th>11</th>\n",
       "      <td>OO</td>\n",
       "      <td>583527</td>\n",
       "      <td>396883</td>\n",
       "      <td>980410</td>\n",
       "      <td>40.481329</td>\n",
       "    </tr>\n",
       "    <tr>\n",
       "      <th>19</th>\n",
       "      <td>DH</td>\n",
       "      <td>154302</td>\n",
       "      <td>97299</td>\n",
       "      <td>251601</td>\n",
       "      <td>38.671945</td>\n",
       "    </tr>\n",
       "    <tr>\n",
       "      <th>22</th>\n",
       "      <td>9E</td>\n",
       "      <td>160287</td>\n",
       "      <td>90373</td>\n",
       "      <td>250660</td>\n",
       "      <td>36.054017</td>\n",
       "    </tr>\n",
       "    <tr>\n",
       "      <th>16</th>\n",
       "      <td>HA</td>\n",
       "      <td>77676</td>\n",
       "      <td>28699</td>\n",
       "      <td>106375</td>\n",
       "      <td>26.979083</td>\n",
       "    </tr>\n",
       "    <tr>\n",
       "      <th>23</th>\n",
       "      <td>AQ</td>\n",
       "      <td>5311</td>\n",
       "      <td>1899</td>\n",
       "      <td>7210</td>\n",
       "      <td>26.338419</td>\n",
       "    </tr>\n",
       "  </tbody>\n",
       "</table>\n",
       "</div>"
      ],
      "text/plain": [
       "Delayed UniqueCarrier    False     True  AllFlights  PercDelay\n",
       "1                  HP   165746   223678      389424  57.438165\n",
       "8                  AS   210214   228880      439094  52.125513\n",
       "21                 F9    47523    46690       94213  49.557917\n",
       "4                  DL  1015191   981469     1996660  49.155540\n",
       "20                 YV   123128   109903      233031  47.162395\n",
       "5                  UA   897306   799137     1696443  47.106623\n",
       "2                  CO   515502   457832      973334  47.037502\n",
       "7                  NW   693469   607305     1300774  46.687972\n",
       "12                 XE   383298   326514      709812  46.000068\n",
       "9                  TW   145187   121155      266342  45.488507\n",
       "17                 MQ   497134   414834      911968  45.487780\n",
       "6                  AA  1042566   849251     1891817  44.890758\n",
       "15                 FL   230057   183844      413901  44.417385\n",
       "10                 OH   304158   239465      543623  44.049829\n",
       "14                 EV   303751   233708      537459  43.483875\n",
       "18                 B6   157553   117519      275072  42.722996\n",
       "0                  WN  1710177  1258654     2968831  42.395610\n",
       "3                  US   879851   639598     1519449  42.094075\n",
       "13                 TZ    42814    30635       73449  41.709213\n",
       "11                 OO   583527   396883      980410  40.481329\n",
       "19                 DH   154302    97299      251601  38.671945\n",
       "22                 9E   160287    90373      250660  36.054017\n",
       "16                 HA    77676    28699      106375  26.979083\n",
       "23                 AQ     5311     1899        7210  26.338419"
      ]
     },
     "execution_count": 65,
     "metadata": {},
     "output_type": "execute_result"
    }
   ],
   "source": [
    "# sort delay percentages in descending order\n",
    "df_prop.sort_values('PercDelay', ascending=False)"
   ]
  },
  {
   "cell_type": "code",
   "execution_count": 66,
   "metadata": {
    "slideshow": {
     "slide_type": "skip"
    }
   },
   "outputs": [],
   "source": [
    "# create dataframe with True and False columns\n",
    "df_prop_year = df_cct.groupby(['Year', 'Delayed']).size().unstack()"
   ]
  },
  {
   "cell_type": "code",
   "execution_count": 67,
   "metadata": {
    "slideshow": {
     "slide_type": "skip"
    }
   },
   "outputs": [],
   "source": [
    "# reset index\n",
    "df_prop_year.reset_index(inplace=True)"
   ]
  },
  {
   "cell_type": "code",
   "execution_count": 68,
   "metadata": {
    "slideshow": {
     "slide_type": "skip"
    }
   },
   "outputs": [],
   "source": [
    "# create column labels\n",
    "new_labels1 = ['Year', 'Ontime', 'Delayed']"
   ]
  },
  {
   "cell_type": "code",
   "execution_count": 69,
   "metadata": {
    "slideshow": {
     "slide_type": "skip"
    }
   },
   "outputs": [],
   "source": [
    "# change column names\n",
    "df_prop_year.columns = new_labels1"
   ]
  },
  {
   "cell_type": "code",
   "execution_count": 70,
   "metadata": {
    "slideshow": {
     "slide_type": "skip"
    }
   },
   "outputs": [],
   "source": [
    "# create total number of flights column\n",
    "df_prop_year['AllFlights'] = df_prop_year['Ontime'] + df_prop_year['Delayed']"
   ]
  },
  {
   "cell_type": "code",
   "execution_count": 71,
   "metadata": {
    "slideshow": {
     "slide_type": "skip"
    }
   },
   "outputs": [],
   "source": [
    "df_prop_year['PercDelay'] = (df_prop_year['Delayed']/df_prop_year['AllFlights'])*100"
   ]
  },
  {
   "cell_type": "code",
   "execution_count": 72,
   "metadata": {
    "slideshow": {
     "slide_type": "skip"
    }
   },
   "outputs": [],
   "source": [
    "# create an indicator column for  arrival delays 15 minutes definition\n",
    "df_cct['Delayed_15'] = df_cct['ArrDelay'].apply(lambda x: x>15)"
   ]
  },
  {
   "cell_type": "code",
   "execution_count": 73,
   "metadata": {
    "slideshow": {
     "slide_type": "skip"
    }
   },
   "outputs": [],
   "source": [
    "# create dataframe with True and False columns\n",
    "df_prop_15 = df_cct.groupby(['UniqueCarrier', 'Delayed_15']).size().unstack()"
   ]
  },
  {
   "cell_type": "code",
   "execution_count": 74,
   "metadata": {
    "slideshow": {
     "slide_type": "skip"
    }
   },
   "outputs": [],
   "source": [
    "# create Unique carrier column\n",
    "df_prop_15.reset_index(inplace=True)"
   ]
  },
  {
   "cell_type": "code",
   "execution_count": 75,
   "metadata": {
    "slideshow": {
     "slide_type": "skip"
    }
   },
   "outputs": [],
   "source": [
    "# create total number of flights column\n",
    "df_prop_15['AllFlights'] = df_prop_15[False] + df_prop_15[True]"
   ]
  },
  {
   "cell_type": "code",
   "execution_count": 76,
   "metadata": {
    "slideshow": {
     "slide_type": "skip"
    }
   },
   "outputs": [],
   "source": [
    "# create a column with percentage delay data\n",
    "df_prop_15['PercDelay'] = (df_prop_15[True]/df_prop_15['AllFlights'])*100"
   ]
  },
  {
   "cell_type": "code",
   "execution_count": 77,
   "metadata": {
    "slideshow": {
     "slide_type": "skip"
    }
   },
   "outputs": [
    {
     "data": {
      "text/html": [
       "<div>\n",
       "<style scoped>\n",
       "    .dataframe tbody tr th:only-of-type {\n",
       "        vertical-align: middle;\n",
       "    }\n",
       "\n",
       "    .dataframe tbody tr th {\n",
       "        vertical-align: top;\n",
       "    }\n",
       "\n",
       "    .dataframe thead th {\n",
       "        text-align: right;\n",
       "    }\n",
       "</style>\n",
       "<table border=\"1\" class=\"dataframe\">\n",
       "  <thead>\n",
       "    <tr style=\"text-align: right;\">\n",
       "      <th>Delayed_15</th>\n",
       "      <th>UniqueCarrier</th>\n",
       "      <th>False</th>\n",
       "      <th>True</th>\n",
       "      <th>AllFlights</th>\n",
       "      <th>PercDelay</th>\n",
       "    </tr>\n",
       "  </thead>\n",
       "  <tbody>\n",
       "    <tr>\n",
       "      <th>1</th>\n",
       "      <td>HP</td>\n",
       "      <td>291106</td>\n",
       "      <td>98318</td>\n",
       "      <td>389424</td>\n",
       "      <td>25.247032</td>\n",
       "    </tr>\n",
       "    <tr>\n",
       "      <th>20</th>\n",
       "      <td>YV</td>\n",
       "      <td>176148</td>\n",
       "      <td>56883</td>\n",
       "      <td>233031</td>\n",
       "      <td>24.410057</td>\n",
       "    </tr>\n",
       "    <tr>\n",
       "      <th>17</th>\n",
       "      <td>MQ</td>\n",
       "      <td>695382</td>\n",
       "      <td>216586</td>\n",
       "      <td>911968</td>\n",
       "      <td>23.749298</td>\n",
       "    </tr>\n",
       "    <tr>\n",
       "      <th>18</th>\n",
       "      <td>B6</td>\n",
       "      <td>212657</td>\n",
       "      <td>62415</td>\n",
       "      <td>275072</td>\n",
       "      <td>22.690423</td>\n",
       "    </tr>\n",
       "    <tr>\n",
       "      <th>19</th>\n",
       "      <td>DH</td>\n",
       "      <td>195110</td>\n",
       "      <td>56491</td>\n",
       "      <td>251601</td>\n",
       "      <td>22.452613</td>\n",
       "    </tr>\n",
       "    <tr>\n",
       "      <th>8</th>\n",
       "      <td>AS</td>\n",
       "      <td>340629</td>\n",
       "      <td>98465</td>\n",
       "      <td>439094</td>\n",
       "      <td>22.424583</td>\n",
       "    </tr>\n",
       "    <tr>\n",
       "      <th>12</th>\n",
       "      <td>XE</td>\n",
       "      <td>551214</td>\n",
       "      <td>158598</td>\n",
       "      <td>709812</td>\n",
       "      <td>22.343663</td>\n",
       "    </tr>\n",
       "    <tr>\n",
       "      <th>5</th>\n",
       "      <td>UA</td>\n",
       "      <td>1317741</td>\n",
       "      <td>378702</td>\n",
       "      <td>1696443</td>\n",
       "      <td>22.323296</td>\n",
       "    </tr>\n",
       "    <tr>\n",
       "      <th>14</th>\n",
       "      <td>EV</td>\n",
       "      <td>417799</td>\n",
       "      <td>119660</td>\n",
       "      <td>537459</td>\n",
       "      <td>22.264024</td>\n",
       "    </tr>\n",
       "    <tr>\n",
       "      <th>10</th>\n",
       "      <td>OH</td>\n",
       "      <td>425951</td>\n",
       "      <td>117672</td>\n",
       "      <td>543623</td>\n",
       "      <td>21.645883</td>\n",
       "    </tr>\n",
       "    <tr>\n",
       "      <th>6</th>\n",
       "      <td>AA</td>\n",
       "      <td>1483703</td>\n",
       "      <td>408114</td>\n",
       "      <td>1891817</td>\n",
       "      <td>21.572594</td>\n",
       "    </tr>\n",
       "    <tr>\n",
       "      <th>15</th>\n",
       "      <td>FL</td>\n",
       "      <td>325072</td>\n",
       "      <td>88829</td>\n",
       "      <td>413901</td>\n",
       "      <td>21.461412</td>\n",
       "    </tr>\n",
       "    <tr>\n",
       "      <th>2</th>\n",
       "      <td>CO</td>\n",
       "      <td>766294</td>\n",
       "      <td>207040</td>\n",
       "      <td>973334</td>\n",
       "      <td>21.271218</td>\n",
       "    </tr>\n",
       "    <tr>\n",
       "      <th>7</th>\n",
       "      <td>NW</td>\n",
       "      <td>1029069</td>\n",
       "      <td>271705</td>\n",
       "      <td>1300774</td>\n",
       "      <td>20.887948</td>\n",
       "    </tr>\n",
       "    <tr>\n",
       "      <th>4</th>\n",
       "      <td>DL</td>\n",
       "      <td>1599922</td>\n",
       "      <td>396738</td>\n",
       "      <td>1996660</td>\n",
       "      <td>19.870083</td>\n",
       "    </tr>\n",
       "    <tr>\n",
       "      <th>21</th>\n",
       "      <td>F9</td>\n",
       "      <td>75575</td>\n",
       "      <td>18638</td>\n",
       "      <td>94213</td>\n",
       "      <td>19.782833</td>\n",
       "    </tr>\n",
       "    <tr>\n",
       "      <th>9</th>\n",
       "      <td>TW</td>\n",
       "      <td>215718</td>\n",
       "      <td>50624</td>\n",
       "      <td>266342</td>\n",
       "      <td>19.007141</td>\n",
       "    </tr>\n",
       "    <tr>\n",
       "      <th>13</th>\n",
       "      <td>TZ</td>\n",
       "      <td>59645</td>\n",
       "      <td>13804</td>\n",
       "      <td>73449</td>\n",
       "      <td>18.793993</td>\n",
       "    </tr>\n",
       "    <tr>\n",
       "      <th>3</th>\n",
       "      <td>US</td>\n",
       "      <td>1242494</td>\n",
       "      <td>276955</td>\n",
       "      <td>1519449</td>\n",
       "      <td>18.227331</td>\n",
       "    </tr>\n",
       "    <tr>\n",
       "      <th>0</th>\n",
       "      <td>WN</td>\n",
       "      <td>2446164</td>\n",
       "      <td>522667</td>\n",
       "      <td>2968831</td>\n",
       "      <td>17.605145</td>\n",
       "    </tr>\n",
       "    <tr>\n",
       "      <th>22</th>\n",
       "      <td>9E</td>\n",
       "      <td>206706</td>\n",
       "      <td>43954</td>\n",
       "      <td>250660</td>\n",
       "      <td>17.535307</td>\n",
       "    </tr>\n",
       "    <tr>\n",
       "      <th>11</th>\n",
       "      <td>OO</td>\n",
       "      <td>813662</td>\n",
       "      <td>166748</td>\n",
       "      <td>980410</td>\n",
       "      <td>17.007986</td>\n",
       "    </tr>\n",
       "    <tr>\n",
       "      <th>16</th>\n",
       "      <td>HA</td>\n",
       "      <td>98563</td>\n",
       "      <td>7812</td>\n",
       "      <td>106375</td>\n",
       "      <td>7.343831</td>\n",
       "    </tr>\n",
       "    <tr>\n",
       "      <th>23</th>\n",
       "      <td>AQ</td>\n",
       "      <td>6840</td>\n",
       "      <td>370</td>\n",
       "      <td>7210</td>\n",
       "      <td>5.131761</td>\n",
       "    </tr>\n",
       "  </tbody>\n",
       "</table>\n",
       "</div>"
      ],
      "text/plain": [
       "Delayed_15 UniqueCarrier    False    True  AllFlights  PercDelay\n",
       "1                     HP   291106   98318      389424  25.247032\n",
       "20                    YV   176148   56883      233031  24.410057\n",
       "17                    MQ   695382  216586      911968  23.749298\n",
       "18                    B6   212657   62415      275072  22.690423\n",
       "19                    DH   195110   56491      251601  22.452613\n",
       "8                     AS   340629   98465      439094  22.424583\n",
       "12                    XE   551214  158598      709812  22.343663\n",
       "5                     UA  1317741  378702     1696443  22.323296\n",
       "14                    EV   417799  119660      537459  22.264024\n",
       "10                    OH   425951  117672      543623  21.645883\n",
       "6                     AA  1483703  408114     1891817  21.572594\n",
       "15                    FL   325072   88829      413901  21.461412\n",
       "2                     CO   766294  207040      973334  21.271218\n",
       "7                     NW  1029069  271705     1300774  20.887948\n",
       "4                     DL  1599922  396738     1996660  19.870083\n",
       "21                    F9    75575   18638       94213  19.782833\n",
       "9                     TW   215718   50624      266342  19.007141\n",
       "13                    TZ    59645   13804       73449  18.793993\n",
       "3                     US  1242494  276955     1519449  18.227331\n",
       "0                     WN  2446164  522667     2968831  17.605145\n",
       "22                    9E   206706   43954      250660  17.535307\n",
       "11                    OO   813662  166748      980410  17.007986\n",
       "16                    HA    98563    7812      106375   7.343831\n",
       "23                    AQ     6840     370        7210   5.131761"
      ]
     },
     "execution_count": 77,
     "metadata": {},
     "output_type": "execute_result"
    }
   ],
   "source": [
    "# sort delay percentages in descending order\n",
    "df_prop_15.sort_values('PercDelay', ascending=False)"
   ]
  },
  {
   "cell_type": "code",
   "execution_count": 78,
   "metadata": {
    "slideshow": {
     "slide_type": "skip"
    }
   },
   "outputs": [],
   "source": [
    "# create an indicator column for departure delays\n",
    "df_cct['DepDel'] = df_cct['DepDelay'].apply(lambda x: x>0)"
   ]
  },
  {
   "cell_type": "code",
   "execution_count": 79,
   "metadata": {
    "slideshow": {
     "slide_type": "skip"
    }
   },
   "outputs": [],
   "source": [
    "# create dataframe with True and False columns\n",
    "df_prop_dep = df_cct.groupby(['Origin', 'DepDel']).size().unstack()"
   ]
  },
  {
   "cell_type": "code",
   "execution_count": 80,
   "metadata": {
    "slideshow": {
     "slide_type": "skip"
    }
   },
   "outputs": [],
   "source": [
    "# create Origin column\n",
    "df_prop_dep.reset_index(inplace=True)"
   ]
  },
  {
   "cell_type": "code",
   "execution_count": 81,
   "metadata": {
    "slideshow": {
     "slide_type": "skip"
    }
   },
   "outputs": [],
   "source": [
    "# create total number of flights column\n",
    "df_prop_dep['AllFlights'] = df_prop_dep[False] + df_prop_dep[True]"
   ]
  },
  {
   "cell_type": "code",
   "execution_count": 82,
   "metadata": {
    "slideshow": {
     "slide_type": "skip"
    }
   },
   "outputs": [],
   "source": [
    "# create a column with percentage delay data\n",
    "df_prop_dep['PercDelay'] = (df_prop_dep[True]/df_prop_dep['AllFlights'])*100"
   ]
  },
  {
   "cell_type": "code",
   "execution_count": 83,
   "metadata": {
    "slideshow": {
     "slide_type": "skip"
    }
   },
   "outputs": [],
   "source": [
    "# sort delay percentages in descending order\n",
    "df_prop_dep.sort_values('PercDelay', ascending=False, inplace=True)"
   ]
  },
  {
   "cell_type": "code",
   "execution_count": 84,
   "metadata": {
    "slideshow": {
     "slide_type": "skip"
    }
   },
   "outputs": [],
   "source": [
    "# drop NaN values\n",
    "df_prop_dep.dropna(inplace=True)"
   ]
  },
  {
   "cell_type": "code",
   "execution_count": 85,
   "metadata": {
    "slideshow": {
     "slide_type": "skip"
    }
   },
   "outputs": [],
   "source": [
    "# create an indicator column for departure delays\n",
    "df_cct['DepDel_15'] = df_cct['DepDelay'].apply(lambda x: x>15)"
   ]
  },
  {
   "cell_type": "code",
   "execution_count": 86,
   "metadata": {
    "slideshow": {
     "slide_type": "skip"
    }
   },
   "outputs": [],
   "source": [
    "# create dataframe with True and False columns\n",
    "df_prop_dep_15 = df_cct.groupby(['Origin', 'DepDel_15']).size().unstack()"
   ]
  },
  {
   "cell_type": "code",
   "execution_count": 87,
   "metadata": {
    "slideshow": {
     "slide_type": "skip"
    }
   },
   "outputs": [],
   "source": [
    "# create Origin column\n",
    "df_prop_dep_15.reset_index(inplace=True)"
   ]
  },
  {
   "cell_type": "code",
   "execution_count": 88,
   "metadata": {
    "slideshow": {
     "slide_type": "skip"
    }
   },
   "outputs": [],
   "source": [
    "# create total number of flights column\n",
    "df_prop_dep_15['AllFlights'] = df_prop_dep_15[False] + df_prop_dep_15[True]"
   ]
  },
  {
   "cell_type": "code",
   "execution_count": 89,
   "metadata": {
    "slideshow": {
     "slide_type": "skip"
    }
   },
   "outputs": [],
   "source": [
    "# create a column with percentage delay data\n",
    "df_prop_dep_15['PercDelay'] = (df_prop_dep_15[True]/df_prop_dep_15['AllFlights'])*100"
   ]
  },
  {
   "cell_type": "code",
   "execution_count": 90,
   "metadata": {
    "slideshow": {
     "slide_type": "skip"
    }
   },
   "outputs": [],
   "source": [
    "# sort delay percentages in descending order\n",
    "df_prop_dep_15.sort_values('PercDelay', ascending=False, inplace=True)"
   ]
  },
  {
   "cell_type": "code",
   "execution_count": 91,
   "metadata": {
    "slideshow": {
     "slide_type": "skip"
    }
   },
   "outputs": [],
   "source": [
    "# drop NaN values\n",
    "df_prop_dep_15.dropna(inplace=True)"
   ]
  },
  {
   "cell_type": "code",
   "execution_count": 92,
   "metadata": {
    "slideshow": {
     "slide_type": "skip"
    }
   },
   "outputs": [],
   "source": [
    "# create data frame with needed variables\n",
    "df_prop1 = df_cct.groupby(['Origin','UniqueCarrier', 'DepDel'])['DepDelay'].mean().unstack()"
   ]
  },
  {
   "cell_type": "code",
   "execution_count": 93,
   "metadata": {
    "slideshow": {
     "slide_type": "skip"
    }
   },
   "outputs": [],
   "source": [
    "# reset index\n",
    "df_prop1.reset_index(level='UniqueCarrier', inplace=True)"
   ]
  },
  {
   "cell_type": "code",
   "execution_count": 94,
   "metadata": {
    "slideshow": {
     "slide_type": "skip"
    }
   },
   "outputs": [],
   "source": [
    "# create list with 20 airports with highest percentage of departure delays\n",
    "df_hf_origin_list = df_prop_dep['Origin'][:20].tolist()"
   ]
  },
  {
   "cell_type": "code",
   "execution_count": 95,
   "metadata": {
    "slideshow": {
     "slide_type": "skip"
    }
   },
   "outputs": [],
   "source": [
    "# create data frame that contain data from the airports with the highest departure delays\n",
    "df_prop1_hf_origin = df_prop1[df_prop1.index.isin(df_hf_origin_list)]"
   ]
  },
  {
   "cell_type": "code",
   "execution_count": 96,
   "metadata": {
    "slideshow": {
     "slide_type": "skip"
    }
   },
   "outputs": [],
   "source": [
    "# reset index\n",
    "df_prop1_hf_origin.reset_index(inplace=True)"
   ]
  },
  {
   "cell_type": "code",
   "execution_count": 97,
   "metadata": {
    "slideshow": {
     "slide_type": "skip"
    }
   },
   "outputs": [],
   "source": [
    "# rename columns step 1\n",
    "new_labels = ['Origin', 'UniqueCarrier', 'InTime', 'Delayed']"
   ]
  },
  {
   "cell_type": "code",
   "execution_count": 98,
   "metadata": {
    "slideshow": {
     "slide_type": "skip"
    }
   },
   "outputs": [],
   "source": [
    "# rename columns step 2\n",
    "df_prop1_hf_origin.columns = new_labels"
   ]
  },
  {
   "cell_type": "code",
   "execution_count": 99,
   "metadata": {
    "slideshow": {
     "slide_type": "skip"
    }
   },
   "outputs": [],
   "source": [
    "# create list for the 20 airports with the smallest departure delays\n",
    "df_lf_origin_list = df_prop_dep['Origin'][-20:].tolist()"
   ]
  },
  {
   "cell_type": "code",
   "execution_count": 100,
   "metadata": {
    "slideshow": {
     "slide_type": "skip"
    }
   },
   "outputs": [],
   "source": [
    "# create dataframe containing the data of the 20 airports with the smallest departure delays\n",
    "df_prop1_lf_origin = df_prop1[df_prop1.index.isin(df_lf_origin_list)]"
   ]
  },
  {
   "cell_type": "code",
   "execution_count": 101,
   "metadata": {
    "slideshow": {
     "slide_type": "skip"
    }
   },
   "outputs": [],
   "source": [
    "# reset index\n",
    "df_prop1_lf_origin.reset_index(inplace=True)"
   ]
  },
  {
   "cell_type": "code",
   "execution_count": 102,
   "metadata": {
    "slideshow": {
     "slide_type": "skip"
    }
   },
   "outputs": [],
   "source": [
    "# rename columns\n",
    "df_prop1_lf_origin.columns = new_labels"
   ]
  },
  {
   "cell_type": "code",
   "execution_count": 103,
   "metadata": {
    "slideshow": {
     "slide_type": "skip"
    }
   },
   "outputs": [],
   "source": [
    "# get mean arrival delay for single airlines\n",
    "df_grouped_ucar_del = df_cct.groupby('UniqueCarrier')['ArrDelay'].mean()"
   ]
  },
  {
   "cell_type": "code",
   "execution_count": 104,
   "metadata": {
    "slideshow": {
     "slide_type": "skip"
    }
   },
   "outputs": [],
   "source": [
    "# get number of flights for single airlines\n",
    "df_grouped_ucar_count = df_cct.groupby('UniqueCarrier')['ArrDelay'].count()"
   ]
  },
  {
   "cell_type": "code",
   "execution_count": 105,
   "metadata": {
    "slideshow": {
     "slide_type": "skip"
    }
   },
   "outputs": [],
   "source": [
    "# create data frame to join second variable\n",
    "df_2 = pd.DataFrame(df_grouped_ucar_del)"
   ]
  },
  {
   "cell_type": "code",
   "execution_count": 106,
   "metadata": {
    "slideshow": {
     "slide_type": "skip"
    }
   },
   "outputs": [],
   "source": [
    "# join data\n",
    "df_group_master_2 = df_2.join(df_grouped_ucar_count, lsuffix='_', rsuffix='_NoOfFlights')"
   ]
  },
  {
   "cell_type": "code",
   "execution_count": 107,
   "metadata": {
    "slideshow": {
     "slide_type": "skip"
    }
   },
   "outputs": [],
   "source": [
    "# reset index\n",
    "df_group_master_2.reset_index(inplace=True)"
   ]
  },
  {
   "cell_type": "markdown",
   "metadata": {
    "slideshow": {
     "slide_type": "skip"
    }
   },
   "source": [
    "### Explanatory Visualizations"
   ]
  },
  {
   "cell_type": "markdown",
   "metadata": {
    "slideshow": {
     "slide_type": "slide"
    }
   },
   "source": [
    "**Introduction to the data set**\n",
    "\n",
    "- Arrival and departure delays records for the years 1998, 2004 and 2008\n",
    "- US flights data\n",
    "- Negative numbers are early departure or arrival\n",
    "- 0 departure or arrival ontime\n",
    "- Positive numbers delay in departure or arrival\n",
    "- 15 minutes rule: departure or arrival within 15 minutes of schedule = ontime\n"
   ]
  },
  {
   "cell_type": "markdown",
   "metadata": {
    "slideshow": {
     "slide_type": "slide"
    }
   },
   "source": [
    "**The first slide shows the distribution of the arrival delay data of U/S flights. 50 % of the data left of the red line. 75 % of the data left of yellow line. Around 80 % of flights are regarded as in time according to 15 minutes rule. 20 % are delayed with sometimes very high delays.**"
   ]
  },
  {
   "cell_type": "code",
   "execution_count": 108,
   "metadata": {
    "slideshow": {
     "slide_type": "skip"
    }
   },
   "outputs": [
    {
     "data": {
      "text/plain": [
       "count    1.883095e+07\n",
       "mean     7.684761e+00\n",
       "std      3.485524e+01\n",
       "min     -4.400000e+01\n",
       "25%     -9.000000e+00\n",
       "50%     -1.000000e+00\n",
       "75%      1.100000e+01\n",
       "max      2.461000e+03\n",
       "Name: ArrDelay, dtype: float64"
      ]
     },
     "execution_count": 108,
     "metadata": {},
     "output_type": "execute_result"
    }
   ],
   "source": [
    "df_cct['ArrDelay'].describe()"
   ]
  },
  {
   "cell_type": "code",
   "execution_count": 109,
   "metadata": {
    "slideshow": {
     "slide_type": "skip"
    }
   },
   "outputs": [
    {
     "data": {
      "text/plain": [
       "count    266.046424\n",
       "mean       1.973377\n",
       "std        3.266551\n",
       "min       -3.530348\n",
       "25%       -2.080084\n",
       "50%       -1.000000\n",
       "75%        2.223980\n",
       "max       13.501143\n",
       "Name: ArrDelay, dtype: float64"
      ]
     },
     "execution_count": 109,
     "metadata": {},
     "output_type": "execute_result"
    }
   ],
   "source": [
    "cbrt_trans(df_cct['ArrDelay'].describe())"
   ]
  },
  {
   "cell_type": "code",
   "execution_count": 110,
   "metadata": {
    "slideshow": {
     "slide_type": "subslide"
    }
   },
   "outputs": [
    {
     "data": {
      "image/png": "[encoded data removed]",
      "text/plain": [
       "<Figure size 1080x720 with 1 Axes>"
      ]
     },
     "metadata": {
      "needs_background": "light"
     },
     "output_type": "display_data"
    }
   ],
   "source": [
    "# create histogram to show distribution of arrival delays\n",
    "plt.figure(figsize=[15, 10])\n",
    "bin_edges = np.arange(cbrt_trans(df_cct['ArrDelay'].min()),cbrt_trans(df_cct['ArrDelay'].max())+1, 1)\n",
    "plt.hist(df_cct['ArrDelay'].apply(cbrt_trans), bins=bin_edges)\n",
    "tic_locs = np.arange(cbrt_trans(df_cct['ArrDelay'].min()), cbrt_trans(df_cct['ArrDelay'].max())+2, 2)\n",
    "plt.xticks(tic_locs, cbrt_trans(tic_locs, inverse=True).astype(int))\n",
    "plt.yscale('log')\n",
    "plt.ylabel('counts/log scale', fontsize=15)\n",
    "plt.xlabel('Arrival delay in minutes/log scale', fontsize=15)\n",
    "plt.title('Distribution of arrival delays', fontsize=20)\n",
    "plt.axvline(x=-1, color='red')\n",
    "plt.axvline(x=2.22, color='yellow');"
   ]
  },
  {
   "cell_type": "markdown",
   "metadata": {
    "slideshow": {
     "slide_type": "slide"
    }
   },
   "source": [
    "**The next slide shows the distribution of departure delay data for U/S flights. 50 % of the data left of the red line. 75 % of the data left of the yellow line. Also for departure delays the majority of the flights is on time.\n",
    "Departure delay data and arrival delay data have an correlation coefficient of 0.91 and are therefore highly correlated and can be used interchangeably for conveying messages about delay data.**"
   ]
  },
  {
   "cell_type": "code",
   "execution_count": 111,
   "metadata": {
    "slideshow": {
     "slide_type": "skip"
    }
   },
   "outputs": [
    {
     "data": {
      "text/plain": [
       "count    1.883095e+07\n",
       "mean     9.153001e+00\n",
       "std      3.167764e+01\n",
       "min     -1.000000e+01\n",
       "25%     -3.000000e+00\n",
       "50%      0.000000e+00\n",
       "75%      7.000000e+00\n",
       "max      2.467000e+03\n",
       "Name: DepDelay, dtype: float64"
      ]
     },
     "execution_count": 111,
     "metadata": {},
     "output_type": "execute_result"
    }
   ],
   "source": [
    "df_cct['DepDelay'].describe()"
   ]
  },
  {
   "cell_type": "code",
   "execution_count": 112,
   "metadata": {
    "slideshow": {
     "slide_type": "skip"
    }
   },
   "outputs": [
    {
     "data": {
      "text/plain": [
       "count    266.046424\n",
       "mean       2.091805\n",
       "std        3.164105\n",
       "min       -2.154435\n",
       "25%       -1.442250\n",
       "50%        0.000000\n",
       "75%        1.912931\n",
       "max       13.512106\n",
       "Name: DepDelay, dtype: float64"
      ]
     },
     "execution_count": 112,
     "metadata": {},
     "output_type": "execute_result"
    }
   ],
   "source": [
    "cbrt_trans(df_cct['DepDelay'].describe())"
   ]
  },
  {
   "cell_type": "code",
   "execution_count": 113,
   "metadata": {
    "slideshow": {
     "slide_type": "subslide"
    }
   },
   "outputs": [
    {
     "data": {
      "image/png": "[encoded data removed]",
      "text/plain": [
       "<Figure size 1080x720 with 1 Axes>"
      ]
     },
     "metadata": {
      "needs_background": "light"
     },
     "output_type": "display_data"
    }
   ],
   "source": [
    "# create histogram to show distribution of departure delays\n",
    "plt.figure(figsize=[15,10])\n",
    "bin_edges = np.arange(cbrt_trans(df_cct['DepDelay'].min()),cbrt_trans(df_cct['DepDelay'].max())+1, 1)\n",
    "plt.hist(df_cct['DepDelay'].apply(cbrt_trans), bins=bin_edges)\n",
    "tic_locs = np.arange(cbrt_trans(df_cct['DepDelay'].min()), cbrt_trans(df_cct['DepDelay'].max())+2, 2)\n",
    "plt.xticks(tic_locs, cbrt_trans(tic_locs, inverse=True).astype(int))\n",
    "plt.ylabel('counts/log scale', fontsize=15)\n",
    "plt.xlabel('Departure delay in minutes/log scale', fontsize=15)\n",
    "plt.title('Distribution of departure delays', fontsize=20)\n",
    "plt.yscale('log')\n",
    "plt.axvline(x=0, color='red')\n",
    "plt.axvline(x=1.91, color='yellow');"
   ]
  },
  {
   "cell_type": "markdown",
   "metadata": {
    "slideshow": {
     "slide_type": "slide"
    }
   },
   "source": [
    "**Are there differences between airlines? The next slide shows that there are no major differences between delay times of airlines. Spread is huge. Some airlines seem to manage delays more consistent than others. Only important airlines are labeled.**"
   ]
  },
  {
   "cell_type": "code",
   "execution_count": 114,
   "metadata": {
    "slideshow": {
     "slide_type": "subslide"
    }
   },
   "outputs": [
    {
     "data": {
      "image/png": "[encoded data removed]",
      "text/plain": [
       "<Figure size 1440x720 with 2 Axes>"
      ]
     },
     "metadata": {
      "needs_background": "light"
     },
     "output_type": "display_data"
    }
   ],
   "source": [
    "# create boxplot to show differences between arrival and departure delays for airlines\n",
    "plt.figure(figsize=[20, 10])\n",
    "base_color = sns.color_palette()[0]\n",
    "plt.subplot(1,2,1)\n",
    "sns.boxplot(data=df_cct, x='UniqueCarrier', y='ArrDelay', color=base_color, showfliers=False)\n",
    "plt.ylabel('Arrival delay in minutes', fontsize=15)\n",
    "plt.xlabel('Airline', fontsize=15)\n",
    "plt.title('Arrival delays by airline', fontsize=20)\n",
    "plt.ylim(-45, 60)\n",
    "plt.subplot(1,2,2)\n",
    "sns.boxplot(data=df_cct, x='UniqueCarrier', y='DepDelay', color=base_color, showfliers=False)\n",
    "plt.ylabel('Departure delay in minutes', fontsize=15)\n",
    "plt.xlabel('Airline', fontsize=15)\n",
    "plt.title('Departure delays by airline', fontsize=20)\n",
    "plt.ylim(-45, 60)\n",
    "plt.text(x=0, y=55,s=['WN: Southwest Airlines', 'HA: Hawaian Airlines', 'F9 : Frontier Airlines', 'AQ : Aloha Airlines']);\n"
   ]
  },
  {
   "cell_type": "markdown",
   "metadata": {
    "slideshow": {
     "slide_type": "slide"
    }
   },
   "source": [
    "**Does this mean that all airlines are equal? Not quite the next slide shows the difference in the percentage of delayed flights. This means that there are differences in the probability that one is delayed with a specific airline between 27 and 57%. But once you are delayed the time of delay does not differ between airlines. Only relevant airlines are listed.**"
   ]
  },
  {
   "cell_type": "code",
   "execution_count": 115,
   "metadata": {
    "slideshow": {
     "slide_type": "subslide"
    }
   },
   "outputs": [
    {
     "data": {
      "image/png": "[encoded data removed]",
      "text/plain": [
       "<Figure size 1440x720 with 1 Axes>"
      ]
     },
     "metadata": {
      "needs_background": "light"
     },
     "output_type": "display_data"
    }
   ],
   "source": [
    "# create barplot to show differences in percentages of flight delays\n",
    "plt.figure(figsize=[20, 10])\n",
    "base_color = sns.color_palette()[0]\n",
    "sns.barplot(data=df_prop, x='UniqueCarrier', y='PercDelay',color=base_color );\n",
    "plt.ylabel('Percentage of flights delayed', fontsize=15)\n",
    "plt.xlabel('Airline', fontsize=15)\n",
    "plt.title('Percentage of flights delayed by airline', fontsize=20)\n",
    "plt.xticks(rotation=90)\n",
    "plt.text(x=0, y=10,s=['WN: Southwest Airlines','HP : American West Airlines', 'AS: Alaska Airlines', 'HA: Hawaian Airlines', 'F9 : Frontier Airlines', 'AQ : Aloha Airlines'], fontsize=15);"
   ]
  },
  {
   "cell_type": "markdown",
   "metadata": {
    "slideshow": {
     "slide_type": "slide"
    }
   },
   "source": [
    "**Does the distribution of distances served maybe play a role for the delayed flights? Distance was not correlated with arrival delay and departure delay in the original data. Also here the percentage of flights delayed does not correlate with the percentage of delays as can be seen for e.g. American West Airline and Frontier Airline**"
   ]
  },
  {
   "cell_type": "code",
   "execution_count": 116,
   "metadata": {
    "slideshow": {
     "slide_type": "subslide"
    }
   },
   "outputs": [
    {
     "data": {
      "image/png": "[encoded data removed]",
      "text/plain": [
       "<Figure size 1440x720 with 1 Axes>"
      ]
     },
     "metadata": {
      "needs_background": "light"
     },
     "output_type": "display_data"
    }
   ],
   "source": [
    "# create violinplot to show distance distribution\n",
    "plt.figure(figsize=[20, 10])\n",
    "base_color = sns.color_palette()[0]\n",
    "sns.violinplot(data=df_cct, x='UniqueCarrier', y='Distance', inner=None, color=base_color)\n",
    "plt.xlabel('Airline', fontsize=15)\n",
    "plt.ylabel('Distance/miles', fontsize=15)\n",
    "plt.title('Distances served by airlines', fontsize=20)\n",
    "plt.text(x=0, y=-50,s=['WN: Southwest Airlines','HP : American West Airlines', 'AS: Alaska Airlines', 'HA: Hawaian Airlines', 'F9 : Frontier Airlines', 'AQ : Aloha Airlines'], fontsize=15);"
   ]
  },
  {
   "cell_type": "markdown",
   "metadata": {
    "slideshow": {
     "slide_type": "slide"
    }
   },
   "source": [
    "**Now what about airports? The next slide shows the percentage of delays of the 20 airports with the most delays. So you have to choose the airport and the airline wisely if you have a chance to do so.**"
   ]
  },
  {
   "cell_type": "code",
   "execution_count": 117,
   "metadata": {
    "slideshow": {
     "slide_type": "subslide"
    }
   },
   "outputs": [
    {
     "data": {
      "image/png": "[encoded data removed]",
      "text/plain": [
       "<Figure size 1440x720 with 1 Axes>"
      ]
     },
     "metadata": {
      "needs_background": "light"
     },
     "output_type": "display_data"
    }
   ],
   "source": [
    "# create barplot to show differences in percentage of departure delays for airports\n",
    "plt.figure(figsize=[20, 10])\n",
    "base_color = sns.color_palette()[0]\n",
    "sns.barplot(data=df_prop_dep[:20], x='Origin', y='PercDelay', color=base_color);\n",
    "plt.ylabel('Percentage of flights delayed', fontsize=15)\n",
    "plt.xlabel('Airport', fontsize=15)\n",
    "plt.title('Percentage of flights delayed by departure', fontsize=20)\n",
    "plt.xticks(rotation=90)\n",
    "plt.ylim(0, 85)\n",
    "plt.text(x=5, y=70,s=['ADK: Adak',\"ORD : Chicago O'Hare\", 'CDV: Merle K Smith'], fontsize=15);"
   ]
  },
  {
   "cell_type": "markdown",
   "metadata": {
    "slideshow": {
     "slide_type": "slide"
    }
   },
   "source": [
    "**Do airports with high frequency of delays differ in their average delay time? And do airlines in those airports have all the same delay times? Airports differ in the average delay times from 20 to 70 minutes. And even within airports different airlines have different average delay times. Also remarkable is that small airports often serving only 1 airline have a high share in the top 20 airports regarding percentage of delays.**"
   ]
  },
  {
   "cell_type": "code",
   "execution_count": 118,
   "metadata": {
    "slideshow": {
     "slide_type": "subslide"
    }
   },
   "outputs": [
    {
     "data": {
      "image/png": "[encoded data removed]",
      "text/plain": [
       "<Figure size 1440x1152 with 20 Axes>"
      ]
     },
     "metadata": {
      "needs_background": "light"
     },
     "output_type": "display_data"
    }
   ],
   "source": [
    "# create barplots to show delay differences of airlines in different airports\n",
    "gen_order =['WN', 'HP', 'CO', 'US', 'DL', 'UA', 'AA', 'NW', 'AS', 'TW', 'OH', 'OO', 'XE', 'TZ', 'EV','FL', 'HA', 'MQ', 'B6', 'DH', 'YV', 'F9', '9E', 'AQ' ]\n",
    "g = sns.FacetGrid(data = df_prop1_hf_origin, col='Origin', height = 4, col_wrap=5)\n",
    "g.map(sns.barplot, 'UniqueCarrier', 'Delayed', order=gen_order)\n",
    "plt.subplots_adjust(top=0.9)\n",
    "g.fig.suptitle('Average departure delay for airlines in single airports', fontsize=20)\n",
    "g.set_ylabels('Average delay/minutes', fontsize=15)\n",
    "g.set_xlabels('Airline', fontsize=15)\n",
    "for ax in g.axes.flat:\n",
    "    for label in ax.get_xticklabels():\n",
    "        label.set_rotation(90);\n",
    "\n"
   ]
  },
  {
   "cell_type": "markdown",
   "metadata": {
    "slideshow": {
     "slide_type": "slide"
    }
   },
   "source": [
    "**Is a delay a delay? Not quite in aviation. If you consider a delay as an event of leaving or arriving after the scheduled time regardless of the amount of time you have a lot of delays. In aviation however a delay is counted as a delay not until the delay is more than 15 minutes. This is the way airlines can claim 80% punctuallity. This neat little trick lowers the percentage of delayed flights by around 20 base points.**"
   ]
  },
  {
   "cell_type": "code",
   "execution_count": 119,
   "metadata": {
    "slideshow": {
     "slide_type": "subslide"
    }
   },
   "outputs": [
    {
     "data": {
      "image/png": "[encoded data removed]",
      "text/plain": [
       "<Figure size 1440x720 with 2 Axes>"
      ]
     },
     "metadata": {
      "needs_background": "light"
     },
     "output_type": "display_data"
    }
   ],
   "source": [
    "# create barplot to show the difference between normal delay and 15 minutes rule\n",
    "plt.figure(figsize=[20, 10])\n",
    "base_color = sns.color_palette()[0]\n",
    "plt.subplot(1, 2, 1)\n",
    "sns.barplot(data=df_prop_dep[:20], x='Origin', y='PercDelay', color=base_color);\n",
    "plt.ylabel('Percentage of flights delayed', fontsize=15)\n",
    "plt.xlabel('Airport', fontsize=15)\n",
    "plt.title('Percentage of flights delayed by departure', fontsize=20)\n",
    "plt.xticks(rotation=90)\n",
    "plt.ylim(0, 85);\n",
    "plt.subplot(1, 2, 2)\n",
    "sns.barplot(data=df_prop_dep_15[1:21], x='Origin', y='PercDelay', color=base_color);\n",
    "plt.ylabel('Percentage of flights delayed', fontsize=15)\n",
    "plt.xlabel('Airport', fontsize=15)\n",
    "plt.title('Percentage of flights delayed by departure 15 min rule', fontsize=20)\n",
    "plt.xticks(rotation=90)\n",
    "plt.ylim(0, 85);\n"
   ]
  },
  {
   "cell_type": "markdown",
   "metadata": {
    "slideshow": {
     "slide_type": "slide"
    }
   },
   "source": [
    "**Where to go from here**\n",
    "\n",
    "**I did not do in depth analysis of reasons for delays. Why there is a similar value distribution for all of the different  reasons for delays and why single airlines show a similar pattern for all of the delay reasons is intuitively not clear for me. I would expect a more uniform distribution of weather delays for airlines or at least statistics that are not synchronized with the statistics for late aircraft delay, carrier delay etc..I did not explore were the PUB airport suddenly appeared from etc.. Furthermore I did not dig deeper for many of the variables which I also could have used for multivariate analyses but I do think the scope of the project is fulfilled with the available data.**"
   ]
  }
 ],
 "metadata": {
  "celltoolbar": "Slideshow",
  "kernelspec": {
   "display_name": "Python 3",
   "language": "python",
   "name": "python3"
  },
  "language_info": {
   "codemirror_mode": {
    "name": "ipython",
    "version": 3
   },
   "file_extension": ".py",
   "mimetype": "text/x-python",
   "name": "python",
   "nbconvert_exporter": "python",
   "pygments_lexer": "ipython3",
   "version": "3.6.8"
  }
 },
 "nbformat": 4,
 "nbformat_minor": 2
}
